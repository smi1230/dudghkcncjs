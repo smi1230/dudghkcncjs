{
 "cells": [
  {
   "cell_type": "markdown",
   "id": "following-deficit",
   "metadata": {},
   "source": [
    "전처리"
   ]
  },
  {
   "cell_type": "code",
   "execution_count": 1,
   "id": "cardiac-heading",
   "metadata": {},
   "outputs": [
    {
     "data": {
      "text/html": [
       "<div>\n",
       "<style scoped>\n",
       "    .dataframe tbody tr th:only-of-type {\n",
       "        vertical-align: middle;\n",
       "    }\n",
       "\n",
       "    .dataframe tbody tr th {\n",
       "        vertical-align: top;\n",
       "    }\n",
       "\n",
       "    .dataframe thead th {\n",
       "        text-align: right;\n",
       "    }\n",
       "</style>\n",
       "<table border=\"1\" class=\"dataframe\">\n",
       "  <thead>\n",
       "    <tr style=\"text-align: right;\">\n",
       "      <th></th>\n",
       "      <th>user_id</th>\n",
       "      <th>movie_id</th>\n",
       "      <th>rating</th>\n",
       "      <th>timestamp</th>\n",
       "    </tr>\n",
       "  </thead>\n",
       "  <tbody>\n",
       "    <tr>\n",
       "      <th>0</th>\n",
       "      <td>1</td>\n",
       "      <td>1193</td>\n",
       "      <td>5</td>\n",
       "      <td>978300760</td>\n",
       "    </tr>\n",
       "    <tr>\n",
       "      <th>1</th>\n",
       "      <td>1</td>\n",
       "      <td>661</td>\n",
       "      <td>3</td>\n",
       "      <td>978302109</td>\n",
       "    </tr>\n",
       "    <tr>\n",
       "      <th>2</th>\n",
       "      <td>1</td>\n",
       "      <td>914</td>\n",
       "      <td>3</td>\n",
       "      <td>978301968</td>\n",
       "    </tr>\n",
       "    <tr>\n",
       "      <th>3</th>\n",
       "      <td>1</td>\n",
       "      <td>3408</td>\n",
       "      <td>4</td>\n",
       "      <td>978300275</td>\n",
       "    </tr>\n",
       "    <tr>\n",
       "      <th>4</th>\n",
       "      <td>1</td>\n",
       "      <td>2355</td>\n",
       "      <td>5</td>\n",
       "      <td>978824291</td>\n",
       "    </tr>\n",
       "  </tbody>\n",
       "</table>\n",
       "</div>"
      ],
      "text/plain": [
       "   user_id  movie_id  rating  timestamp\n",
       "0        1      1193       5  978300760\n",
       "1        1       661       3  978302109\n",
       "2        1       914       3  978301968\n",
       "3        1      3408       4  978300275\n",
       "4        1      2355       5  978824291"
      ]
     },
     "execution_count": 1,
     "metadata": {},
     "output_type": "execute_result"
    }
   ],
   "source": [
    "import pandas as pd\n",
    "import os\n",
    "rating_file_path=os.getenv('HOME') + '/aiffel/recommendata_iu/data/ml-1m/ratings.dat'\n",
    "ratings_cols = ['user_id', 'movie_id', 'rating', 'timestamp']\n",
    "ratings = pd.read_csv(rating_file_path, sep='::', names=ratings_cols, engine='python', encoding = \"ISO-8859-1\")\n",
    "orginal_data_size = len(ratings)\n",
    "ratings.head()"
   ]
  },
  {
   "cell_type": "code",
   "execution_count": 2,
   "id": "useful-reason",
   "metadata": {},
   "outputs": [
    {
     "name": "stdout",
     "output_type": "stream",
     "text": [
      "orginal_data_size: 1000209, filtered_data_size: 836478\n",
      "Ratio of Remaining Data is 83.63%\n"
     ]
    }
   ],
   "source": [
    "# 3점 이상만 남깁니다.\n",
    "ratings = ratings[ratings['rating']>=3]\n",
    "filtered_data_size = len(ratings)\n",
    "\n",
    "print(f'orginal_data_size: {orginal_data_size}, filtered_data_size: {filtered_data_size}')\n",
    "print(f'Ratio of Remaining Data is {filtered_data_size / orginal_data_size:.2%}')"
   ]
  },
  {
   "cell_type": "code",
   "execution_count": 3,
   "id": "fallen-promotion",
   "metadata": {},
   "outputs": [
    {
     "data": {
      "text/plain": [
       "0          5\n",
       "1          3\n",
       "2          3\n",
       "3          4\n",
       "4          5\n",
       "          ..\n",
       "1000203    3\n",
       "1000205    5\n",
       "1000206    5\n",
       "1000207    4\n",
       "1000208    4\n",
       "Name: count, Length: 836478, dtype: int64"
      ]
     },
     "execution_count": 3,
     "metadata": {},
     "output_type": "execute_result"
    }
   ],
   "source": [
    "# rating 컬럼의 이름을 count로 바꿉니다.\n",
    "ratings.rename(columns={'rating':'count'}, inplace=True)\n",
    "ratings['count']"
   ]
  },
  {
   "cell_type": "code",
   "execution_count": 4,
   "id": "unauthorized-atlantic",
   "metadata": {},
   "outputs": [
    {
     "data": {
      "text/html": [
       "<div>\n",
       "<style scoped>\n",
       "    .dataframe tbody tr th:only-of-type {\n",
       "        vertical-align: middle;\n",
       "    }\n",
       "\n",
       "    .dataframe tbody tr th {\n",
       "        vertical-align: top;\n",
       "    }\n",
       "\n",
       "    .dataframe thead th {\n",
       "        text-align: right;\n",
       "    }\n",
       "</style>\n",
       "<table border=\"1\" class=\"dataframe\">\n",
       "  <thead>\n",
       "    <tr style=\"text-align: right;\">\n",
       "      <th></th>\n",
       "      <th>movie_id</th>\n",
       "      <th>title</th>\n",
       "      <th>genre</th>\n",
       "    </tr>\n",
       "  </thead>\n",
       "  <tbody>\n",
       "    <tr>\n",
       "      <th>0</th>\n",
       "      <td>1</td>\n",
       "      <td>Toy Story (1995)</td>\n",
       "      <td>Animation|Children's|Comedy</td>\n",
       "    </tr>\n",
       "    <tr>\n",
       "      <th>1</th>\n",
       "      <td>2</td>\n",
       "      <td>Jumanji (1995)</td>\n",
       "      <td>Adventure|Children's|Fantasy</td>\n",
       "    </tr>\n",
       "    <tr>\n",
       "      <th>2</th>\n",
       "      <td>3</td>\n",
       "      <td>Grumpier Old Men (1995)</td>\n",
       "      <td>Comedy|Romance</td>\n",
       "    </tr>\n",
       "    <tr>\n",
       "      <th>3</th>\n",
       "      <td>4</td>\n",
       "      <td>Waiting to Exhale (1995)</td>\n",
       "      <td>Comedy|Drama</td>\n",
       "    </tr>\n",
       "    <tr>\n",
       "      <th>4</th>\n",
       "      <td>5</td>\n",
       "      <td>Father of the Bride Part II (1995)</td>\n",
       "      <td>Comedy</td>\n",
       "    </tr>\n",
       "  </tbody>\n",
       "</table>\n",
       "</div>"
      ],
      "text/plain": [
       "   movie_id                               title                         genre\n",
       "0         1                    Toy Story (1995)   Animation|Children's|Comedy\n",
       "1         2                      Jumanji (1995)  Adventure|Children's|Fantasy\n",
       "2         3             Grumpier Old Men (1995)                Comedy|Romance\n",
       "3         4            Waiting to Exhale (1995)                  Comedy|Drama\n",
       "4         5  Father of the Bride Part II (1995)                        Comedy"
      ]
     },
     "execution_count": 4,
     "metadata": {},
     "output_type": "execute_result"
    }
   ],
   "source": [
    "# 영화 제목을 보기 위해 메타 데이터를 읽어옵니다.\n",
    "movie_file_path=os.getenv('HOME') + '/aiffel/recommendata_iu/data/ml-1m/movies.dat'\n",
    "cols = ['movie_id', 'title', 'genre'] \n",
    "movies = pd.read_csv(movie_file_path, sep='::', names=cols, engine='python', encoding='ISO-8859-1')\n",
    "movies.head()"
   ]
  },
  {
   "cell_type": "markdown",
   "id": "annoying-spiritual",
   "metadata": {},
   "source": [
    "유니크수"
   ]
  },
  {
   "cell_type": "code",
   "execution_count": 5,
   "id": "adopted-customer",
   "metadata": {},
   "outputs": [
    {
     "data": {
      "text/plain": [
       "6039"
      ]
     },
     "execution_count": 5,
     "metadata": {},
     "output_type": "execute_result"
    }
   ],
   "source": [
    "ratings['user_id'].nunique()"
   ]
  },
  {
   "cell_type": "code",
   "execution_count": 6,
   "id": "correct-performance",
   "metadata": {},
   "outputs": [
    {
     "data": {
      "text/plain": [
       "3628"
      ]
     },
     "execution_count": 6,
     "metadata": {},
     "output_type": "execute_result"
    }
   ],
   "source": [
    "ratings['movie_id'].nunique()"
   ]
  },
  {
   "cell_type": "markdown",
   "id": "prerequisite-universal",
   "metadata": {},
   "source": [
    "인기작30"
   ]
  },
  {
   "cell_type": "code",
   "execution_count": 7,
   "id": "neural-harvard",
   "metadata": {},
   "outputs": [
    {
     "data": {
      "text/plain": [
       "title\n",
       "American Beauty (1999)                                   3211\n",
       "Star Wars: Episode IV - A New Hope (1977)                2910\n",
       "Star Wars: Episode V - The Empire Strikes Back (1980)    2885\n",
       "Star Wars: Episode VI - Return of the Jedi (1983)        2716\n",
       "Saving Private Ryan (1998)                               2561\n",
       "Terminator 2: Judgment Day (1991)                        2509\n",
       "Silence of the Lambs, The (1991)                         2498\n",
       "Raiders of the Lost Ark (1981)                           2473\n",
       "Back to the Future (1985)                                2460\n",
       "Matrix, The (1999)                                       2434\n",
       "Jurassic Park (1993)                                     2413\n",
       "Sixth Sense, The (1999)                                  2385\n",
       "Fargo (1996)                                             2371\n",
       "Braveheart (1995)                                        2314\n",
       "Men in Black (1997)                                      2297\n",
       "Schindler's List (1993)                                  2257\n",
       "Princess Bride, The (1987)                               2252\n",
       "Shakespeare in Love (1998)                               2213\n",
       "L.A. Confidential (1997)                                 2210\n",
       "Shawshank Redemption, The (1994)                         2194\n",
       "Godfather, The (1972)                                    2167\n",
       "Groundhog Day (1993)                                     2121\n",
       "E.T. the Extra-Terrestrial (1982)                        2102\n",
       "Being John Malkovich (1999)                              2066\n",
       "Ghostbusters (1984)                                      2051\n",
       "Pulp Fiction (1994)                                      2030\n",
       "Forrest Gump (1994)                                      2022\n",
       "Terminator, The (1984)                                   2019\n",
       "Toy Story (1995)                                         2000\n",
       "Fugitive, The (1993)                                     1941\n",
       "Name: title, dtype: int64"
      ]
     },
     "execution_count": 7,
     "metadata": {},
     "output_type": "execute_result"
    }
   ],
   "source": [
    "new_df = pd.merge(ratings, movies, on='movie_id')\n",
    "movie_count = new_df.groupby('title')['title'].count()\n",
    "movie_count.sort_values(ascending=False).head(30)"
   ]
  },
  {
   "cell_type": "markdown",
   "id": "eleven-better",
   "metadata": {},
   "source": [
    "선호영화"
   ]
  },
  {
   "cell_type": "code",
   "execution_count": 8,
   "id": "tired-couple",
   "metadata": {},
   "outputs": [
    {
     "data": {
      "text/html": [
       "<div>\n",
       "<style scoped>\n",
       "    .dataframe tbody tr th:only-of-type {\n",
       "        vertical-align: middle;\n",
       "    }\n",
       "\n",
       "    .dataframe tbody tr th {\n",
       "        vertical-align: top;\n",
       "    }\n",
       "\n",
       "    .dataframe thead th {\n",
       "        text-align: right;\n",
       "    }\n",
       "</style>\n",
       "<table border=\"1\" class=\"dataframe\">\n",
       "  <thead>\n",
       "    <tr style=\"text-align: right;\">\n",
       "      <th></th>\n",
       "      <th>user_id</th>\n",
       "      <th>movie_id</th>\n",
       "      <th>count</th>\n",
       "      <th>timestamp</th>\n",
       "      <th>title</th>\n",
       "      <th>genre</th>\n",
       "    </tr>\n",
       "  </thead>\n",
       "  <tbody>\n",
       "    <tr>\n",
       "      <th>836473</th>\n",
       "      <td>5851</td>\n",
       "      <td>3607.0</td>\n",
       "      <td>5</td>\n",
       "      <td>9.577566e+08</td>\n",
       "      <td>One Little Indian (1973)</td>\n",
       "      <td>Comedy|Drama|Western</td>\n",
       "    </tr>\n",
       "    <tr>\n",
       "      <th>836474</th>\n",
       "      <td>5854</td>\n",
       "      <td>3026.0</td>\n",
       "      <td>4</td>\n",
       "      <td>9.583469e+08</td>\n",
       "      <td>Slaughterhouse (1987)</td>\n",
       "      <td>Horror</td>\n",
       "    </tr>\n",
       "    <tr>\n",
       "      <th>836475</th>\n",
       "      <td>5854</td>\n",
       "      <td>690.0</td>\n",
       "      <td>3</td>\n",
       "      <td>9.577443e+08</td>\n",
       "      <td>Promise, The (Versprechen, Das) (1994)</td>\n",
       "      <td>Romance</td>\n",
       "    </tr>\n",
       "    <tr>\n",
       "      <th>836476</th>\n",
       "      <td>5938</td>\n",
       "      <td>2909.0</td>\n",
       "      <td>4</td>\n",
       "      <td>9.572734e+08</td>\n",
       "      <td>Five Wives, Three Secretaries and Me (1998)</td>\n",
       "      <td>Documentary</td>\n",
       "    </tr>\n",
       "    <tr>\n",
       "      <th>836477</th>\n",
       "      <td>5948</td>\n",
       "      <td>1360.0</td>\n",
       "      <td>5</td>\n",
       "      <td>1.016564e+09</td>\n",
       "      <td>Identification of a Woman (Identificazione di ...</td>\n",
       "      <td>Drama</td>\n",
       "    </tr>\n",
       "    <tr>\n",
       "      <th>0</th>\n",
       "      <td>무</td>\n",
       "      <td>NaN</td>\n",
       "      <td>5</td>\n",
       "      <td>NaN</td>\n",
       "      <td>Matrix, The (1999)</td>\n",
       "      <td>NaN</td>\n",
       "    </tr>\n",
       "    <tr>\n",
       "      <th>1</th>\n",
       "      <td>무</td>\n",
       "      <td>NaN</td>\n",
       "      <td>5</td>\n",
       "      <td>NaN</td>\n",
       "      <td>Forrest Gump (1994)</td>\n",
       "      <td>NaN</td>\n",
       "    </tr>\n",
       "    <tr>\n",
       "      <th>2</th>\n",
       "      <td>무</td>\n",
       "      <td>NaN</td>\n",
       "      <td>5</td>\n",
       "      <td>NaN</td>\n",
       "      <td>Men in Black (1997)</td>\n",
       "      <td>NaN</td>\n",
       "    </tr>\n",
       "    <tr>\n",
       "      <th>3</th>\n",
       "      <td>무</td>\n",
       "      <td>NaN</td>\n",
       "      <td>5</td>\n",
       "      <td>NaN</td>\n",
       "      <td>Groundhog Day (1993)</td>\n",
       "      <td>NaN</td>\n",
       "    </tr>\n",
       "    <tr>\n",
       "      <th>4</th>\n",
       "      <td>무</td>\n",
       "      <td>NaN</td>\n",
       "      <td>5</td>\n",
       "      <td>NaN</td>\n",
       "      <td>Terminator, The (1984)</td>\n",
       "      <td>NaN</td>\n",
       "    </tr>\n",
       "  </tbody>\n",
       "</table>\n",
       "</div>"
      ],
      "text/plain": [
       "       user_id  movie_id  count     timestamp  \\\n",
       "836473    5851    3607.0      5  9.577566e+08   \n",
       "836474    5854    3026.0      4  9.583469e+08   \n",
       "836475    5854     690.0      3  9.577443e+08   \n",
       "836476    5938    2909.0      4  9.572734e+08   \n",
       "836477    5948    1360.0      5  1.016564e+09   \n",
       "0            무       NaN      5           NaN   \n",
       "1            무       NaN      5           NaN   \n",
       "2            무       NaN      5           NaN   \n",
       "3            무       NaN      5           NaN   \n",
       "4            무       NaN      5           NaN   \n",
       "\n",
       "                                                    title  \\\n",
       "836473                           One Little Indian (1973)   \n",
       "836474                              Slaughterhouse (1987)   \n",
       "836475             Promise, The (Versprechen, Das) (1994)   \n",
       "836476        Five Wives, Three Secretaries and Me (1998)   \n",
       "836477  Identification of a Woman (Identificazione di ...   \n",
       "0                                      Matrix, The (1999)   \n",
       "1                                     Forrest Gump (1994)   \n",
       "2                                     Men in Black (1997)   \n",
       "3                                    Groundhog Day (1993)   \n",
       "4                                  Terminator, The (1984)   \n",
       "\n",
       "                       genre  \n",
       "836473  Comedy|Drama|Western  \n",
       "836474                Horror  \n",
       "836475               Romance  \n",
       "836476           Documentary  \n",
       "836477                 Drama  \n",
       "0                        NaN  \n",
       "1                        NaN  \n",
       "2                        NaN  \n",
       "3                        NaN  \n",
       "4                        NaN  "
      ]
     },
     "execution_count": 8,
     "metadata": {},
     "output_type": "execute_result"
    }
   ],
   "source": [
    "# 선호영화\n",
    "my_favorite = [\n",
    "    'Matrix, The (1999)',\n",
    "    'Forrest Gump (1994)',\n",
    "    'Men in Black (1997)',\n",
    "    'Groundhog Day (1993)',\n",
    "    'Terminator, The (1984)'\n",
    "]\n",
    "\n",
    "# 데이터 만들기\n",
    "my_rating = pd.DataFrame({'user_id' : ['무'] * 5, 'title' : my_favorite, 'count' : [5] * 5})\n",
    "\n",
    "# user_id에 데이터가 없으면 위에 임의로 만든 my_favorite 데이터를 추가해줍니다.\n",
    "if not new_df.isin({'user_id' : ['무']})['user_id'].any():\n",
    "    new_df = new_df.append(my_rating)\n",
    "\n",
    "new_df.tail(10)"
   ]
  },
  {
   "cell_type": "code",
   "execution_count": 9,
   "id": "broadband-blair",
   "metadata": {},
   "outputs": [
    {
     "data": {
      "text/html": [
       "<div>\n",
       "<style scoped>\n",
       "    .dataframe tbody tr th:only-of-type {\n",
       "        vertical-align: middle;\n",
       "    }\n",
       "\n",
       "    .dataframe tbody tr th {\n",
       "        vertical-align: top;\n",
       "    }\n",
       "\n",
       "    .dataframe thead th {\n",
       "        text-align: right;\n",
       "    }\n",
       "</style>\n",
       "<table border=\"1\" class=\"dataframe\">\n",
       "  <thead>\n",
       "    <tr style=\"text-align: right;\">\n",
       "      <th></th>\n",
       "      <th>user_id</th>\n",
       "      <th>count</th>\n",
       "      <th>title</th>\n",
       "      <th>movie_id</th>\n",
       "      <th>genre</th>\n",
       "    </tr>\n",
       "  </thead>\n",
       "  <tbody>\n",
       "    <tr>\n",
       "      <th>0</th>\n",
       "      <td>1</td>\n",
       "      <td>5</td>\n",
       "      <td>One Flew Over the Cuckoo's Nest (1975)</td>\n",
       "      <td>1193</td>\n",
       "      <td>Drama</td>\n",
       "    </tr>\n",
       "    <tr>\n",
       "      <th>1</th>\n",
       "      <td>2</td>\n",
       "      <td>5</td>\n",
       "      <td>One Flew Over the Cuckoo's Nest (1975)</td>\n",
       "      <td>1193</td>\n",
       "      <td>Drama</td>\n",
       "    </tr>\n",
       "    <tr>\n",
       "      <th>2</th>\n",
       "      <td>12</td>\n",
       "      <td>4</td>\n",
       "      <td>One Flew Over the Cuckoo's Nest (1975)</td>\n",
       "      <td>1193</td>\n",
       "      <td>Drama</td>\n",
       "    </tr>\n",
       "    <tr>\n",
       "      <th>3</th>\n",
       "      <td>15</td>\n",
       "      <td>4</td>\n",
       "      <td>One Flew Over the Cuckoo's Nest (1975)</td>\n",
       "      <td>1193</td>\n",
       "      <td>Drama</td>\n",
       "    </tr>\n",
       "    <tr>\n",
       "      <th>4</th>\n",
       "      <td>17</td>\n",
       "      <td>5</td>\n",
       "      <td>One Flew Over the Cuckoo's Nest (1975)</td>\n",
       "      <td>1193</td>\n",
       "      <td>Drama</td>\n",
       "    </tr>\n",
       "    <tr>\n",
       "      <th>5</th>\n",
       "      <td>18</td>\n",
       "      <td>4</td>\n",
       "      <td>One Flew Over the Cuckoo's Nest (1975)</td>\n",
       "      <td>1193</td>\n",
       "      <td>Drama</td>\n",
       "    </tr>\n",
       "    <tr>\n",
       "      <th>6</th>\n",
       "      <td>19</td>\n",
       "      <td>5</td>\n",
       "      <td>One Flew Over the Cuckoo's Nest (1975)</td>\n",
       "      <td>1193</td>\n",
       "      <td>Drama</td>\n",
       "    </tr>\n",
       "    <tr>\n",
       "      <th>7</th>\n",
       "      <td>24</td>\n",
       "      <td>5</td>\n",
       "      <td>One Flew Over the Cuckoo's Nest (1975)</td>\n",
       "      <td>1193</td>\n",
       "      <td>Drama</td>\n",
       "    </tr>\n",
       "    <tr>\n",
       "      <th>8</th>\n",
       "      <td>28</td>\n",
       "      <td>3</td>\n",
       "      <td>One Flew Over the Cuckoo's Nest (1975)</td>\n",
       "      <td>1193</td>\n",
       "      <td>Drama</td>\n",
       "    </tr>\n",
       "    <tr>\n",
       "      <th>9</th>\n",
       "      <td>33</td>\n",
       "      <td>5</td>\n",
       "      <td>One Flew Over the Cuckoo's Nest (1975)</td>\n",
       "      <td>1193</td>\n",
       "      <td>Drama</td>\n",
       "    </tr>\n",
       "  </tbody>\n",
       "</table>\n",
       "</div>"
      ],
      "text/plain": [
       "  user_id  count                                   title  movie_id  genre\n",
       "0       1      5  One Flew Over the Cuckoo's Nest (1975)      1193  Drama\n",
       "1       2      5  One Flew Over the Cuckoo's Nest (1975)      1193  Drama\n",
       "2      12      4  One Flew Over the Cuckoo's Nest (1975)      1193  Drama\n",
       "3      15      4  One Flew Over the Cuckoo's Nest (1975)      1193  Drama\n",
       "4      17      5  One Flew Over the Cuckoo's Nest (1975)      1193  Drama\n",
       "5      18      4  One Flew Over the Cuckoo's Nest (1975)      1193  Drama\n",
       "6      19      5  One Flew Over the Cuckoo's Nest (1975)      1193  Drama\n",
       "7      24      5  One Flew Over the Cuckoo's Nest (1975)      1193  Drama\n",
       "8      28      3  One Flew Over the Cuckoo's Nest (1975)      1193  Drama\n",
       "9      33      5  One Flew Over the Cuckoo's Nest (1975)      1193  Drama"
      ]
     },
     "execution_count": 9,
     "metadata": {},
     "output_type": "execute_result"
    }
   ],
   "source": [
    "del new_df['movie_id'], new_df['genre'], new_df['timestamp']\n",
    "df = pd.merge(new_df, movies, on=['title'])\n",
    "df.head(10)"
   ]
  },
  {
   "cell_type": "code",
   "execution_count": 10,
   "id": "dimensional-supervision",
   "metadata": {},
   "outputs": [
    {
     "data": {
      "text/html": [
       "<div>\n",
       "<style scoped>\n",
       "    .dataframe tbody tr th:only-of-type {\n",
       "        vertical-align: middle;\n",
       "    }\n",
       "\n",
       "    .dataframe tbody tr th {\n",
       "        vertical-align: top;\n",
       "    }\n",
       "\n",
       "    .dataframe thead th {\n",
       "        text-align: right;\n",
       "    }\n",
       "</style>\n",
       "<table border=\"1\" class=\"dataframe\">\n",
       "  <thead>\n",
       "    <tr style=\"text-align: right;\">\n",
       "      <th></th>\n",
       "      <th>user_id</th>\n",
       "      <th>count</th>\n",
       "      <th>title</th>\n",
       "      <th>movie_id</th>\n",
       "      <th>genre</th>\n",
       "    </tr>\n",
       "  </thead>\n",
       "  <tbody>\n",
       "    <tr>\n",
       "      <th>106998</th>\n",
       "      <td>무</td>\n",
       "      <td>5</td>\n",
       "      <td>Groundhog Day (1993)</td>\n",
       "      <td>1265</td>\n",
       "      <td>Comedy|Romance</td>\n",
       "    </tr>\n",
       "    <tr>\n",
       "      <th>124654</th>\n",
       "      <td>무</td>\n",
       "      <td>5</td>\n",
       "      <td>Matrix, The (1999)</td>\n",
       "      <td>2571</td>\n",
       "      <td>Action|Sci-Fi|Thriller</td>\n",
       "    </tr>\n",
       "    <tr>\n",
       "      <th>154346</th>\n",
       "      <td>무</td>\n",
       "      <td>5</td>\n",
       "      <td>Forrest Gump (1994)</td>\n",
       "      <td>356</td>\n",
       "      <td>Comedy|Romance|War</td>\n",
       "    </tr>\n",
       "    <tr>\n",
       "      <th>168507</th>\n",
       "      <td>무</td>\n",
       "      <td>5</td>\n",
       "      <td>Men in Black (1997)</td>\n",
       "      <td>1580</td>\n",
       "      <td>Action|Adventure|Comedy|Sci-Fi</td>\n",
       "    </tr>\n",
       "    <tr>\n",
       "      <th>193102</th>\n",
       "      <td>무</td>\n",
       "      <td>5</td>\n",
       "      <td>Terminator, The (1984)</td>\n",
       "      <td>1240</td>\n",
       "      <td>Action|Sci-Fi|Thriller</td>\n",
       "    </tr>\n",
       "  </tbody>\n",
       "</table>\n",
       "</div>"
      ],
      "text/plain": [
       "       user_id  count                   title  movie_id  \\\n",
       "106998       무      5    Groundhog Day (1993)      1265   \n",
       "124654       무      5      Matrix, The (1999)      2571   \n",
       "154346       무      5     Forrest Gump (1994)       356   \n",
       "168507       무      5     Men in Black (1997)      1580   \n",
       "193102       무      5  Terminator, The (1984)      1240   \n",
       "\n",
       "                                 genre  \n",
       "106998                  Comedy|Romance  \n",
       "124654          Action|Sci-Fi|Thriller  \n",
       "154346              Comedy|Romance|War  \n",
       "168507  Action|Adventure|Comedy|Sci-Fi  \n",
       "193102          Action|Sci-Fi|Thriller  "
      ]
     },
     "execution_count": 10,
     "metadata": {},
     "output_type": "execute_result"
    }
   ],
   "source": [
    "df[df['user_id'] == '무']"
   ]
  },
  {
   "cell_type": "code",
   "execution_count": 13,
   "id": "hourly-drawing",
   "metadata": {},
   "outputs": [
    {
     "name": "stdout",
     "output_type": "stream",
     "text": [
      "5993\n",
      "3620\n"
     ]
    }
   ],
   "source": [
    "# 고유한 유저, 영화를 찾아내는 코드\n",
    "user_unique = df['user_id'].unique()\n",
    "movie_unique = df['title'].unique()\n",
    "\n",
    "# 유저, 영화 indexing 하는 코드.\n",
    "user_to_idx = {v : k for k, v in enumerate(user_unique)}\n",
    "movie_to_idx = {v : k for k, v in enumerate(movie_unique)}\n",
    "\n",
    "# 인덱싱 제대로 되었는지 확인\n",
    "print(user_to_idx['무'])\n",
    "print(movie_to_idx['Modulations (1998)'])"
   ]
  },
  {
   "cell_type": "code",
   "execution_count": 14,
   "id": "parallel-tamil",
   "metadata": {},
   "outputs": [
    {
     "name": "stdout",
     "output_type": "stream",
     "text": [
      "user_id column indexing OK!!\n",
      "movie column indexing ok!!\n"
     ]
    },
    {
     "data": {
      "text/html": [
       "<div>\n",
       "<style scoped>\n",
       "    .dataframe tbody tr th:only-of-type {\n",
       "        vertical-align: middle;\n",
       "    }\n",
       "\n",
       "    .dataframe tbody tr th {\n",
       "        vertical-align: top;\n",
       "    }\n",
       "\n",
       "    .dataframe thead th {\n",
       "        text-align: right;\n",
       "    }\n",
       "</style>\n",
       "<table border=\"1\" class=\"dataframe\">\n",
       "  <thead>\n",
       "    <tr style=\"text-align: right;\">\n",
       "      <th></th>\n",
       "      <th>user_id</th>\n",
       "      <th>count</th>\n",
       "      <th>title</th>\n",
       "      <th>movie_id</th>\n",
       "      <th>genre</th>\n",
       "      <th>movie_id2</th>\n",
       "    </tr>\n",
       "  </thead>\n",
       "  <tbody>\n",
       "    <tr>\n",
       "      <th>0</th>\n",
       "      <td>0</td>\n",
       "      <td>5</td>\n",
       "      <td>One Flew Over the Cuckoo's Nest (1975)</td>\n",
       "      <td>1193</td>\n",
       "      <td>Drama</td>\n",
       "      <td>0</td>\n",
       "    </tr>\n",
       "    <tr>\n",
       "      <th>1</th>\n",
       "      <td>1</td>\n",
       "      <td>5</td>\n",
       "      <td>One Flew Over the Cuckoo's Nest (1975)</td>\n",
       "      <td>1193</td>\n",
       "      <td>Drama</td>\n",
       "      <td>0</td>\n",
       "    </tr>\n",
       "    <tr>\n",
       "      <th>2</th>\n",
       "      <td>2</td>\n",
       "      <td>4</td>\n",
       "      <td>One Flew Over the Cuckoo's Nest (1975)</td>\n",
       "      <td>1193</td>\n",
       "      <td>Drama</td>\n",
       "      <td>0</td>\n",
       "    </tr>\n",
       "    <tr>\n",
       "      <th>3</th>\n",
       "      <td>3</td>\n",
       "      <td>4</td>\n",
       "      <td>One Flew Over the Cuckoo's Nest (1975)</td>\n",
       "      <td>1193</td>\n",
       "      <td>Drama</td>\n",
       "      <td>0</td>\n",
       "    </tr>\n",
       "    <tr>\n",
       "      <th>4</th>\n",
       "      <td>4</td>\n",
       "      <td>5</td>\n",
       "      <td>One Flew Over the Cuckoo's Nest (1975)</td>\n",
       "      <td>1193</td>\n",
       "      <td>Drama</td>\n",
       "      <td>0</td>\n",
       "    </tr>\n",
       "    <tr>\n",
       "      <th>5</th>\n",
       "      <td>5</td>\n",
       "      <td>4</td>\n",
       "      <td>One Flew Over the Cuckoo's Nest (1975)</td>\n",
       "      <td>1193</td>\n",
       "      <td>Drama</td>\n",
       "      <td>0</td>\n",
       "    </tr>\n",
       "    <tr>\n",
       "      <th>6</th>\n",
       "      <td>6</td>\n",
       "      <td>5</td>\n",
       "      <td>One Flew Over the Cuckoo's Nest (1975)</td>\n",
       "      <td>1193</td>\n",
       "      <td>Drama</td>\n",
       "      <td>0</td>\n",
       "    </tr>\n",
       "    <tr>\n",
       "      <th>7</th>\n",
       "      <td>7</td>\n",
       "      <td>5</td>\n",
       "      <td>One Flew Over the Cuckoo's Nest (1975)</td>\n",
       "      <td>1193</td>\n",
       "      <td>Drama</td>\n",
       "      <td>0</td>\n",
       "    </tr>\n",
       "    <tr>\n",
       "      <th>8</th>\n",
       "      <td>8</td>\n",
       "      <td>3</td>\n",
       "      <td>One Flew Over the Cuckoo's Nest (1975)</td>\n",
       "      <td>1193</td>\n",
       "      <td>Drama</td>\n",
       "      <td>0</td>\n",
       "    </tr>\n",
       "    <tr>\n",
       "      <th>9</th>\n",
       "      <td>9</td>\n",
       "      <td>5</td>\n",
       "      <td>One Flew Over the Cuckoo's Nest (1975)</td>\n",
       "      <td>1193</td>\n",
       "      <td>Drama</td>\n",
       "      <td>0</td>\n",
       "    </tr>\n",
       "  </tbody>\n",
       "</table>\n",
       "</div>"
      ],
      "text/plain": [
       "   user_id  count                                   title  movie_id  genre  \\\n",
       "0        0      5  One Flew Over the Cuckoo's Nest (1975)      1193  Drama   \n",
       "1        1      5  One Flew Over the Cuckoo's Nest (1975)      1193  Drama   \n",
       "2        2      4  One Flew Over the Cuckoo's Nest (1975)      1193  Drama   \n",
       "3        3      4  One Flew Over the Cuckoo's Nest (1975)      1193  Drama   \n",
       "4        4      5  One Flew Over the Cuckoo's Nest (1975)      1193  Drama   \n",
       "5        5      4  One Flew Over the Cuckoo's Nest (1975)      1193  Drama   \n",
       "6        6      5  One Flew Over the Cuckoo's Nest (1975)      1193  Drama   \n",
       "7        7      5  One Flew Over the Cuckoo's Nest (1975)      1193  Drama   \n",
       "8        8      3  One Flew Over the Cuckoo's Nest (1975)      1193  Drama   \n",
       "9        9      5  One Flew Over the Cuckoo's Nest (1975)      1193  Drama   \n",
       "\n",
       "   movie_id2  \n",
       "0          0  \n",
       "1          0  \n",
       "2          0  \n",
       "3          0  \n",
       "4          0  \n",
       "5          0  \n",
       "6          0  \n",
       "7          0  \n",
       "8          0  \n",
       "9          0  "
      ]
     },
     "execution_count": 14,
     "metadata": {},
     "output_type": "execute_result"
    }
   ],
   "source": [
    "# indexing을 통해 데이터 칼럼 내 값을 바꾸는 코드\n",
    "\n",
    "temp_user_data = df['user_id'].map(user_to_idx.get).dropna()\n",
    "\n",
    "if len(temp_user_data) == len(df):\n",
    "    print('user_id column indexing OK!!')\n",
    "    df['user_id'] = temp_user_data\n",
    "else:\n",
    "    print('user_id column indexing fail')\n",
    "    \n",
    "temp_movie_data = df['title'].map(movie_to_idx.get).dropna()\n",
    "if len(temp_movie_data) == len(df):\n",
    "    print('movie column indexing ok!!')\n",
    "    df['movie_id2'] = temp_movie_data\n",
    "else:\n",
    "    print('movie column indexing fail')\n",
    "\n",
    "df.head(10)"
   ]
  },
  {
   "cell_type": "markdown",
   "id": "quiet-sharing",
   "metadata": {},
   "source": [
    "CSR matrix"
   ]
  },
  {
   "cell_type": "code",
   "execution_count": 15,
   "id": "preceding-suicide",
   "metadata": {},
   "outputs": [
    {
     "name": "stdout",
     "output_type": "stream",
     "text": [
      "<class 'int'> 3628\n"
     ]
    }
   ],
   "source": [
    "from scipy.sparse import csr_matrix\n",
    "\n",
    "num_user = df['user_id'].nunique()\n",
    "num_movie = df['movie_id2'].nunique()\n",
    "\n",
    "print(type(num_user), num_movie)"
   ]
  },
  {
   "cell_type": "code",
   "execution_count": 16,
   "id": "anticipated-holder",
   "metadata": {},
   "outputs": [
    {
     "data": {
      "text/plain": [
       "<6040x3628 sparse matrix of type '<class 'numpy.longlong'>'\n",
       "\twith 836483 stored elements in Compressed Sparse Row format>"
      ]
     },
     "execution_count": 16,
     "metadata": {},
     "output_type": "execute_result"
    }
   ],
   "source": [
    "csr_data = csr_matrix(\n",
    "    (df['count'], (df.user_id, df.movie_id2)),\n",
    "    shape = (num_user, num_movie)\n",
    ")\n",
    "csr_data"
   ]
  },
  {
   "cell_type": "code",
   "execution_count": null,
   "id": "gorgeous-nature",
   "metadata": {},
   "outputs": [],
   "source": []
  },
  {
   "cell_type": "markdown",
   "id": "taken-chemistry",
   "metadata": {},
   "source": [
    "als_model = AlternatingLeastSquares 모델 훈련"
   ]
  },
  {
   "cell_type": "code",
   "execution_count": 17,
   "id": "lined-exhibit",
   "metadata": {},
   "outputs": [],
   "source": [
    "from implicit.als import AlternatingLeastSquares\n",
    "import os\n",
    "import numpy as np\n",
    "\n",
    "# implicit 라이브러리에서 권장하고 있는 부분. 내용과는 무관하다.\n",
    "os.environ['OPENBLAS_NUM_THREADS']='1'\n",
    "os.environ['KMP_DUPLICATE_LIB_OK']='True'\n",
    "os.environ['MKL_NUM_THREADS']='1'"
   ]
  },
  {
   "cell_type": "code",
   "execution_count": 18,
   "id": "quick-treaty",
   "metadata": {},
   "outputs": [],
   "source": [
    "# Implicit AlternatingLeastSquares 모델 선언\n",
    "als_model = AlternatingLeastSquares(\n",
    "    factors = 100,\n",
    "    regularization = 0.01,\n",
    "    use_gpu = False,\n",
    "    iterations=15,\n",
    "    dtype = np.float32\n",
    ")"
   ]
  },
  {
   "cell_type": "code",
   "execution_count": 19,
   "id": "abandoned-keeping",
   "metadata": {},
   "outputs": [
    {
     "data": {
      "text/plain": [
       "<3628x6040 sparse matrix of type '<class 'numpy.longlong'>'\n",
       "\twith 836483 stored elements in Compressed Sparse Column format>"
      ]
     },
     "execution_count": 19,
     "metadata": {},
     "output_type": "execute_result"
    }
   ],
   "source": [
    "# als모델은 Input으로 반대가 되기 때문에 transpose를 해줍니다.\n",
    "csr_data_transpose = csr_data.T\n",
    "csr_data_transpose"
   ]
  },
  {
   "cell_type": "code",
   "execution_count": 20,
   "id": "logical-weekend",
   "metadata": {},
   "outputs": [
    {
     "data": {
      "application/vnd.jupyter.widget-view+json": {
       "model_id": "b3fd5d2776ca4f1a80b7b2bc3fb69c23",
       "version_major": 2,
       "version_minor": 0
      },
      "text/plain": [
       "  0%|          | 0/15 [00:00<?, ?it/s]"
      ]
     },
     "metadata": {},
     "output_type": "display_data"
    }
   ],
   "source": [
    "# 모델 훈련\n",
    "als_model.fit(csr_data_transpose)"
   ]
  },
  {
   "cell_type": "markdown",
   "id": "settled-mirror",
   "metadata": {},
   "source": [
    "모델이 예측한 나의 선호도"
   ]
  },
  {
   "cell_type": "code",
   "execution_count": 22,
   "id": "genetic-split",
   "metadata": {},
   "outputs": [
    {
     "name": "stdout",
     "output_type": "stream",
     "text": [
      "[ 0.11696295  0.50964946 -0.46415606  0.36256513 -0.34962812 -0.08255932\n",
      "  0.10458025 -0.50986433  0.9834942  -0.58495235 -0.16888282 -0.14982441\n",
      " -0.5578775   0.22601084  0.5693763   0.15185174  0.05516683  0.65022343\n",
      "  0.31683484  0.5328408  -0.5791579  -0.59647346 -1.2453583  -1.1643581\n",
      "  0.36165053  0.21128194 -0.06971386  0.4760667  -0.602902    0.54352266\n",
      " -0.24849465 -1.0477018  -0.3301856  -0.3902305  -0.27090305  0.25136554\n",
      "  0.09892706  1.6639006   0.24701247 -0.0763529  -0.8368292  -0.5184851\n",
      "  1.4305822  -0.10306217  0.18237802 -0.1514235  -0.52345914 -0.588394\n",
      "  0.34471312 -0.07655729 -0.24863821 -0.1772511  -0.1855768  -0.2620038\n",
      " -0.08902071  0.22618715  0.28095916  0.15655549  0.16417944  0.59075135\n",
      " -0.1065212  -0.32531655  0.18918207 -0.00414299 -0.05972171 -0.05891821\n",
      "  0.02903092 -0.27827913  0.40430075  0.04697255  0.8205207   0.21180758\n",
      "  0.5084436   0.17363061  0.68316907  0.3753852  -0.51944256 -0.29226786\n",
      "  0.74438953  0.96693176 -0.22012964 -0.8773929   0.7642693   1.0243794\n",
      " -0.57968736 -0.69192463 -0.11712407 -0.05785142 -0.04506232 -0.7259767\n",
      "  0.8451126  -1.0377299   0.05942873  0.86033463  0.1343484   0.7653594\n",
      " -0.29475063  0.7028193  -0.15885103 -0.45777696]\n"
     ]
    }
   ],
   "source": [
    "무, pulpfiction = user_to_idx['무'], movie_to_idx['Pulp Fiction (1994)']\n",
    "무_vector, pulpfiction_vector = als_model.user_factors[무], als_model.item_factors[pulpfiction]\n",
    "\n",
    "print(무_vector)"
   ]
  },
  {
   "cell_type": "code",
   "execution_count": 23,
   "id": "cross-cookbook",
   "metadata": {},
   "outputs": [
    {
     "name": "stdout",
     "output_type": "stream",
     "text": [
      "[-0.00572201  0.00092842 -0.00179988  0.00905871  0.00154179  0.00827832\n",
      " -0.00803584  0.0076652   0.02553289 -0.0075059   0.01452539 -0.00543269\n",
      " -0.00396762 -0.00087645  0.02361289  0.00635807 -0.01156515  0.01588671\n",
      " -0.00788681 -0.00299877 -0.00991319  0.01367184  0.03947967 -0.01647203\n",
      " -0.02051885  0.01948184 -0.0307198  -0.00626669 -0.00867904  0.00210841\n",
      " -0.00201878  0.00718504 -0.021853    0.01534465  0.01244057  0.01273239\n",
      "  0.01018119  0.01231989 -0.01269366  0.00305804  0.01331957  0.01746472\n",
      "  0.01232477 -0.00589438  0.02218474 -0.00437643 -0.01292615 -0.00030765\n",
      "  0.01071993  0.02967178  0.02357927 -0.0231991   0.00601732  0.00055764\n",
      "  0.01190081  0.009832    0.01974863  0.00482707  0.00741236  0.02474662\n",
      "  0.04401449 -0.011355   -0.00195151  0.0200909  -0.01414051 -0.01934144\n",
      "  0.02257527  0.00437669  0.01956389 -0.00413776  0.0175115   0.01845527\n",
      " -0.00092165  0.03047116 -0.02173757  0.04016278  0.01032343  0.00788755\n",
      "  0.01952286  0.01995627 -0.01512678  0.02011428  0.01468874  0.0017483\n",
      " -0.02201343  0.03564674  0.00157143  0.0137326  -0.0157784   0.04570834\n",
      " -0.02268992  0.03088067  0.01667329 -0.0042237  -0.00818456  0.01149397\n",
      "  0.002354    0.00063382  0.00053094  0.03616636]\n"
     ]
    }
   ],
   "source": [
    "print(pulpfiction_vector)"
   ]
  },
  {
   "cell_type": "code",
   "execution_count": 25,
   "id": "tough-organizer",
   "metadata": {},
   "outputs": [
    {
     "data": {
      "text/plain": [
       "0.008711107"
      ]
     },
     "execution_count": 25,
     "metadata": {},
     "output_type": "execute_result"
    }
   ],
   "source": [
    "np.dot(무_vector, pulpfiction_vector)"
   ]
  },
  {
   "cell_type": "code",
   "execution_count": 26,
   "id": "optical-speech",
   "metadata": {},
   "outputs": [
    {
     "data": {
      "text/plain": [
       "0.023906706"
      ]
     },
     "execution_count": 26,
     "metadata": {},
     "output_type": "execute_result"
    }
   ],
   "source": [
    "무, pulpfiction = user_to_idx['무'], movie_to_idx['Mission to Mars (2000)']\n",
    "무_vector, pulpfiction_vector = als_model.user_factors[무], als_model.item_factors[pulpfiction]\n",
    "np.dot(무_vector, pulpfiction_vector)"
   ]
  },
  {
   "cell_type": "markdown",
   "id": "union-confusion",
   "metadata": {},
   "source": [
    "sf도 추천률이 낮네...."
   ]
  },
  {
   "cell_type": "code",
   "execution_count": null,
   "id": "geographic-search",
   "metadata": {},
   "outputs": [],
   "source": []
  },
  {
   "cell_type": "markdown",
   "id": "straight-insert",
   "metadata": {},
   "source": [
    "추천받기"
   ]
  },
  {
   "cell_type": "code",
   "execution_count": 33,
   "id": "designing-trunk",
   "metadata": {},
   "outputs": [
    {
     "data": {
      "text/plain": [
       "[(92, 0.6353497),\n",
       " (107, 0.4839427),\n",
       " (62, 0.4371012),\n",
       " (64, 0.37039688),\n",
       " (141, 0.3525898),\n",
       " (22, 0.3211799),\n",
       " (150, 0.31602722),\n",
       " (40, 0.31497508),\n",
       " (117, 0.30773702),\n",
       " (44, 0.28882942),\n",
       " (651, 0.2572996),\n",
       " (236, 0.25386864),\n",
       " (38, 0.2503879),\n",
       " (48, 0.24718195),\n",
       " (87, 0.24077535),\n",
       " (121, 0.23427534),\n",
       " (5, 0.23357582),\n",
       " (255, 0.22285834),\n",
       " (60, 0.21587288),\n",
       " (145, 0.2151241)]"
      ]
     },
     "execution_count": 33,
     "metadata": {},
     "output_type": "execute_result"
    }
   ],
   "source": [
    "user = user_to_idx['무']\n",
    "\n",
    "movie_recommended = als_model.recommend(user, csr_data, N=20, filter_already_liked_items = True)\n",
    "movie_recommended"
   ]
  },
  {
   "cell_type": "code",
   "execution_count": 37,
   "id": "least-rotation",
   "metadata": {},
   "outputs": [],
   "source": [
    "# 비슷한 영화를 알려주는 함수\n",
    "def get_similar_movie(movie_title: str):\n",
    "    movie_id = movie_to_idx[movie_title]\n",
    "    similar_movie = als_model.similar_items(movie_id)\n",
    "    similar_movie = [idx_to_movie[i[0]] for i in similar_movie]\n",
    "    return similar_movie"
   ]
  },
  {
   "cell_type": "code",
   "execution_count": 40,
   "id": "cellular-sewing",
   "metadata": {},
   "outputs": [
    {
     "data": {
      "text/plain": [
       "['Terminator 2: Judgment Day (1991)',\n",
       " 'Jurassic Park (1993)',\n",
       " 'Total Recall (1990)',\n",
       " 'Star Wars: Episode VI - Return of the Jedi (1983)',\n",
       " 'Fugitive, The (1993)',\n",
       " 'Back to the Future (1985)',\n",
       " 'Independence Day (ID4) (1996)',\n",
       " 'Toy Story (1995)',\n",
       " 'Star Wars: Episode V - The Empire Strikes Back (1980)',\n",
       " 'Star Wars: Episode IV - A New Hope (1977)',\n",
       " 'Aliens (1986)',\n",
       " 'Speed (1994)',\n",
       " 'Sixth Sense, The (1999)',\n",
       " 'Saving Private Ryan (1998)',\n",
       " 'Braveheart (1995)',\n",
       " 'Silence of the Lambs, The (1991)',\n",
       " 'Princess Bride, The (1987)',\n",
       " \"There's Something About Mary (1998)\",\n",
       " 'Star Wars: Episode I - The Phantom Menace (1999)',\n",
       " 'Fifth Element, The (1997)']"
      ]
     },
     "execution_count": 40,
     "metadata": {},
     "output_type": "execute_result"
    }
   ],
   "source": [
    "favorite_movie = 'Back to the Future (1985)'\n",
    "movie_id = movie_to_idx[favorite_movie]\n",
    "similar_movie = als_model.similar_items(movie_id, N=15)\n",
    "similar_movie   # (movie idx, 유사도) Tuple\n",
    "get_similar_movie('Back to the Future (1985)')\n",
    "idx_to_movie = {v:k for k, v in movie_to_idx.items()}\n",
    "[idx_to_movie[i[0]] for i in similar_movie]\n",
    "[idx_to_movie[i[0]] for i in movie_recommended]"
   ]
  },
  {
   "cell_type": "markdown",
   "id": "initial-transmission",
   "metadata": {},
   "source": [
    "꽤 맞음."
   ]
  },
  {
   "cell_type": "code",
   "execution_count": null,
   "id": "characteristic-resident",
   "metadata": {},
   "outputs": [],
   "source": []
  }
 ],
 "metadata": {
  "kernelspec": {
   "display_name": "Python 3",
   "language": "python",
   "name": "python3"
  },
  "language_info": {
   "codemirror_mode": {
    "name": "ipython",
    "version": 3
   },
   "file_extension": ".py",
   "mimetype": "text/x-python",
   "name": "python",
   "nbconvert_exporter": "python",
   "pygments_lexer": "ipython3",
   "version": "3.7.9"
  }
 },
 "nbformat": 4,
 "nbformat_minor": 5
}
